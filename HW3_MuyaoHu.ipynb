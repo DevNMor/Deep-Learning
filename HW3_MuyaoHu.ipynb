{
 "cells": [
  {
   "cell_type": "markdown",
   "metadata": {
    "id": "GV42Dnaqs1l3"
   },
   "source": [
    "# HW 3: Network Embedding, Image Recognition, and Text Classification"
   ]
  },
  {
   "cell_type": "markdown",
   "metadata": {},
   "source": [
    "<div class=\"alert alert-block alert-warning\">Each assignment needs to be completed independently. Never ever copy others' work (even with minor modification, e.g. changing variable names). Anti-Plagiarism software will be used to check all submissions. </div>"
   ]
  },
  {
   "cell_type": "markdown",
   "metadata": {},
   "source": [
    "In this assignment, we'll have three experiments:\n",
    "- GitHub network analysis through node embedding or graph neural networks\n",
    "- Image classification: Diagnose COVID-19 by CT images\n",
    "- Text classification: Let's redo the news classification task of HW #2 using CNN\n",
    "\n",
    "\n",
    "<font color='red'>Warnings:</font>\n",
    "\n",
    "- If you're new to deep learning, you may find this assignment **challenging**.\n",
    "- To help you start, read lab materials carefully and make sure you understand each example in the lab.\n",
    "- Recommend you to use Colab for this assignment. GPU would be preferred, but not necessary.\n",
    "- Give yourself enough time, <u>at least three days</u>. Don't expect that you can complete this assignment within one day. \n",
    "- Feel free to reach out to me or our TA if you have any question.\n",
    "\n",
    "\n",
    "\n",
    "At last, if you can successfully complete this assignment, you should feel proud to claim that you have managed to conquer the beginning stage of deep learning study and enter the intermediate stage!"
   ]
  },
  {
   "cell_type": "markdown",
   "metadata": {
    "id": "NwQgiJ4bO--r"
   },
   "source": [
    "## Q1: GitHub network analysis: Predict whether the GitHub user is a web or a machine learning developer."
   ]
  },
  {
   "cell_type": "markdown",
   "metadata": {
    "id": "lTq16GpJO--s"
   },
   "source": [
    "Dataset:\n",
    "- The dataset can be downloaded from https://snap.stanford.edu/data/github-social.html\n",
    "- I have split nodes into train and test for you. Please use `musae_git_target_train_test_split.csv` for nodes, labels, and train/test split.\n",
    "\n",
    "\n",
    "\n",
    "Requirements:\n",
    "- You'll only need to predict node class by network adjacency matrix (i.e., `musae_git_edges.csv`) and node labels (i.e., `musae_git_target_train_test_split.csv`). No other features are needed.\n",
    "- You'll need to derive node representations by Node2Vec or GNN\n",
    "- Then you create a linear classification model using the node representations as input. For this part, you can reuse you model and training script in HW2\n",
    "- The nodes have been split into training and test subsets (the `test` column indicates if a node is for train or test). Please use the given test nodes for testing.\n",
    "- Your target is to achieve `at least 84% accuracy` on the test subset. "
   ]
  },
  {
   "cell_type": "code",
   "execution_count": 1,
   "metadata": {
    "id": "7qzWYO7XPKZg"
   },
   "outputs": [],
   "source": [
    "import networkx as nx\n",
    "import pandas as pd\n",
    "from node2vec import Node2Vec\n",
    "import json\n",
    "import numpy as np\n",
    "import torch\n",
    "import torch.nn as nn\n",
    "import time\n",
    "from PIL import Image\n",
    "import glob\n",
    "import os\n",
    "import torchvision\n",
    "import torchvision.transforms as transforms\n",
    "from torch_geometric.nn import GCNConv\n",
    "from sklearn.preprocessing import StandardScaler\n",
    "from sklearn.model_selection import train_test_split\n",
    "from torch_geometric.data import InMemoryDataset, Data\n",
    "from torch.utils.data import DataLoader, random_split, Dataset\n",
    "from matplotlib import pyplot as plt\n",
    "from sklearn.metrics import classification_report\n",
    "import torchtext\n",
    "import keras\n",
    "from keras.datasets import reuters\n",
    "from nltk.corpus import stopwords\n",
    "from nltk.stem import WordNetLemmatizer\n",
    "import nltk\n",
    "import re"
   ]
  },
  {
   "cell_type": "code",
   "execution_count": 2,
   "metadata": {
    "colab": {
     "base_uri": "https://localhost:8080/",
     "height": 58
    },
    "id": "TukWFKcSPKuU",
    "outputId": "a66b4aed-374e-41c5-c624-c98c3cea9847"
   },
   "outputs": [
    {
     "data": {
      "text/plain": [
       "'Graph with 37700 nodes and 289003 edges'"
      ]
     },
     "execution_count": 2,
     "metadata": {},
     "output_type": "execute_result"
    }
   ],
   "source": [
    "KCG = nx.read_edgelist(\"git_web_ml/musae_git_edges.csv\", delimiter=\",\")\n",
    "KCG.remove_node('id_1')\n",
    "KCG.remove_node('id_2')\n",
    "nx.info(KCG)"
   ]
  },
  {
   "cell_type": "code",
   "execution_count": 3,
   "metadata": {
    "id": "3btJWViLPK26"
   },
   "outputs": [],
   "source": [
    "# Data Preparation \n",
    "eg = nx.to_scipy_sparse_matrix(KCG).tocoo()\n",
    "eg_idx = torch.stack([torch.tensor(eg.row),torch.tensor(eg.col)],dim=0).long()\n",
    "id_dic = {int(item): idx for idx, item in enumerate(KCG.nodes)}"
   ]
  },
  {
   "cell_type": "code",
   "execution_count": 4,
   "metadata": {
    "colab": {
     "base_uri": "https://localhost:8080/",
     "height": 221
    },
    "id": "NDdhvacHQ4Se",
    "outputId": "2467a860-7132-479a-b6bd-5b5359e3f630"
   },
   "outputs": [
    {
     "data": {
      "text/html": [
       "<div>\n",
       "<style scoped>\n",
       "    .dataframe tbody tr th:only-of-type {\n",
       "        vertical-align: middle;\n",
       "    }\n",
       "\n",
       "    .dataframe tbody tr th {\n",
       "        vertical-align: top;\n",
       "    }\n",
       "\n",
       "    .dataframe thead th {\n",
       "        text-align: right;\n",
       "    }\n",
       "</style>\n",
       "<table border=\"1\" class=\"dataframe\">\n",
       "  <thead>\n",
       "    <tr style=\"text-align: right;\">\n",
       "      <th></th>\n",
       "      <th>id</th>\n",
       "      <th>name</th>\n",
       "      <th>ml_target</th>\n",
       "      <th>test</th>\n",
       "    </tr>\n",
       "  </thead>\n",
       "  <tbody>\n",
       "    <tr>\n",
       "      <th>0</th>\n",
       "      <td>0</td>\n",
       "      <td>Eiryyy</td>\n",
       "      <td>0</td>\n",
       "      <td>False</td>\n",
       "    </tr>\n",
       "    <tr>\n",
       "      <th>1</th>\n",
       "      <td>1</td>\n",
       "      <td>shawflying</td>\n",
       "      <td>0</td>\n",
       "      <td>False</td>\n",
       "    </tr>\n",
       "    <tr>\n",
       "      <th>2</th>\n",
       "      <td>2</td>\n",
       "      <td>JpMCarrilho</td>\n",
       "      <td>1</td>\n",
       "      <td>True</td>\n",
       "    </tr>\n",
       "    <tr>\n",
       "      <th>3</th>\n",
       "      <td>3</td>\n",
       "      <td>SuhwanCha</td>\n",
       "      <td>0</td>\n",
       "      <td>False</td>\n",
       "    </tr>\n",
       "    <tr>\n",
       "      <th>4</th>\n",
       "      <td>4</td>\n",
       "      <td>sunilangadi2</td>\n",
       "      <td>1</td>\n",
       "      <td>False</td>\n",
       "    </tr>\n",
       "  </tbody>\n",
       "</table>\n",
       "</div>"
      ],
      "text/plain": [
       "   id          name  ml_target   test\n",
       "0   0        Eiryyy          0  False\n",
       "1   1    shawflying          0  False\n",
       "2   2   JpMCarrilho          1   True\n",
       "3   3     SuhwanCha          0  False\n",
       "4   4  sunilangadi2          1  False"
      ]
     },
     "execution_count": 4,
     "metadata": {},
     "output_type": "execute_result"
    }
   ],
   "source": [
    "# read target\n",
    "data = pd.read_csv(\"git_web_ml/musae_git_target_train_test_split.csv\")\n",
    "data.head()"
   ]
  },
  {
   "cell_type": "code",
   "execution_count": 5,
   "metadata": {},
   "outputs": [
    {
     "name": "stdout",
     "output_type": "stream",
     "text": [
      "Train: positives: 6233, total: 24128\n",
      "Eval: positives: 1558, total: 6032\n",
      "Test: positives: 1948, total: 7540\n"
     ]
    }
   ],
   "source": [
    "train = data[data['test']==False]\n",
    "X_train, X_val, y_train, y_val = train_test_split(train['id'], train['ml_target'], \n",
    "                                                  test_size=0.2, stratify=train['ml_target'])\n",
    "X_test = data[data['test']]['id']\n",
    "y_test = data[data['test']]['ml_target']\n",
    "\n",
    "print(f'Train: positives: {sum(y_train)}, total: {len(X_train)}')\n",
    "print(f'Eval: positives: {sum(y_val)}, total: {len(X_val)}')\n",
    "print(f'Test: positives: {sum(y_test)}, total: {len(X_test)}')"
   ]
  },
  {
   "cell_type": "code",
   "execution_count": 6,
   "metadata": {
    "id": "ixMj9uaxQ4a1"
   },
   "outputs": [],
   "source": [
    "# Define datat class\n",
    "train_id = [id_dic[i] for i in X_train]\n",
    "val_id = [id_dic[i] for i in X_val]\n",
    "test_id = [id_dic[i] for i in X_test]\n",
    "\n",
    "class _dataset(Dataset):\n",
    "    \n",
    "    def __init__(self, X, y):\n",
    "        super(_dataset, self).__init__()\n",
    "        self.X = torch.tensor(X, dtype=torch.long)\n",
    "        self.y = torch.from_numpy(np.array(list(y))).float()\n",
    "        \n",
    "    def __getitem__(self, idx):\n",
    "        return self.X[idx], self.y[idx]\n",
    "    \n",
    "    def __len__(self):\n",
    "        return len(self.X)\n",
    "\n",
    "_train = _dataset(train_id, y_train)\n",
    "_val = _dataset(val_id, y_val)\n",
    "_test = _dataset(test_id, y_test)"
   ]
  },
  {
   "cell_type": "code",
   "execution_count": 7,
   "metadata": {
    "id": "aFSy0uuyPLAX"
   },
   "outputs": [],
   "source": [
    "class GCN(nn.Module):\n",
    "    \n",
    "    def __init__(self):\n",
    "        super(GCN, self).__init__()\n",
    "        self.emb = nn.Embedding(KCG.number_of_nodes(), 233)\n",
    "        self.conv1 = GCNConv(233, 107)\n",
    "        self.conv2 = GCNConv(107, 61)\n",
    "        self.conv3 = GCNConv(61, 31)\n",
    "        self.conv4 = GCNConv(31, 1)\n",
    "        self.reg = nn.Sequential(nn.ReLU(), nn.Dropout(0.13))\n",
    "            \n",
    "    def forward(self, node_index, edge_index):\n",
    "        embeddings = self.emb(node_index)\n",
    "        out = self.conv1(embeddings, edge_index)\n",
    "        out = self.reg(out)\n",
    "        out = self.conv2(out, edge_index)\n",
    "        out = self.reg(out)\n",
    "        out = self.conv3(out, edge_index)\n",
    "        out = self.reg(out)\n",
    "        out = self.conv4(out, edge_index)\n",
    "        \n",
    "        return nn.Sigmoid()(out)"
   ]
  },
  {
   "cell_type": "code",
   "execution_count": 8,
   "metadata": {
    "id": "fWswJgQtS21x"
   },
   "outputs": [],
   "source": [
    "def train_model(model, train_set, val_set, test_id, device, batch_size,\n",
    "                lr=0.0005, epochs=50):\n",
    "    \n",
    "    history = {'train_loss': [], 'train_acc': [], 'eval_loss': [], 'eval_acc': []}\n",
    "\n",
    "    model = model.to(device)\n",
    "    Loss = nn.BCELoss().to(device)\n",
    "    op = torch.optim.Adam(model.parameters(), lr=lr)\n",
    "    train_loader = DataLoader(train_set, batch_size=batch_size, shuffle=True)\n",
    "    eval_loader = DataLoader(val_set, batch_size=batch_size)\n",
    "    \n",
    "    print('Training start!')\n",
    "    start = time.time()\n",
    "    \n",
    "    for epoch in range(epochs):\n",
    "        \n",
    "        model.train()\n",
    "        train_loss = 0\n",
    "        train_acc = 0\n",
    "        eval_loss = 0\n",
    "        eval_acc = 0\n",
    "        \n",
    "        for a, b in train_loader:\n",
    "            out = model(torch.arange(KCG.number_of_nodes()).to(device), eg_idx.to(device))[a].view(-1)\n",
    "            label = b.to(device)\n",
    "            \n",
    "            acc = (torch.round(out)==label).float().mean().item()\n",
    "            loss = Loss(out, label)\n",
    "            train_loss += loss.item()\n",
    "            train_acc += acc\n",
    "        \n",
    "            op.zero_grad()\n",
    "            loss.backward()\n",
    "            op.step()\n",
    "\n",
    "            \n",
    "        model.eval()\n",
    "        with torch.no_grad():\n",
    "            for a, b in eval_loader:\n",
    "                out = model(torch.arange(KCG.number_of_nodes()).to(device), eg_idx.to(device))[a].view(-1)\n",
    "                label = b.to(device)\n",
    "                \n",
    "                acc = (torch.round(out)==label).float().mean().item()\n",
    "                loss = Loss(out, label)\n",
    "                eval_loss += loss.item()\n",
    "                eval_acc += acc\n",
    "                \n",
    "        train_loss = train_loss/len(train_loader)\n",
    "        train_acc = train_acc/len(train_loader)\n",
    "        eval_loss = eval_loss/len(eval_loader)\n",
    "        eval_acc = eval_acc/len(eval_loader)            \n",
    "              \n",
    "        history['train_loss'].append(train_loss)\n",
    "        history['train_acc'].append(train_acc)\n",
    "        history['eval_loss'].append(eval_loss)\n",
    "        history['eval_acc'].append(eval_acc)    \n",
    "\n",
    "        print(f'Epoch: {epoch+1}/{epochs}')\n",
    "        print(f'Train Loss: {format(train_loss, \".8f\")} \\t Train Accuracy: {format(train_acc*100, \".3f\")} %')\n",
    "        print(f'Eval Loss: {format(eval_loss, \".8f\")} \\t Eval Accuracy: {format(eval_acc*100, \".3f\")} %')\n",
    "        \n",
    "    print(f'\\nTraining complete! Spent time: {format(time.time()-start, \".5f\")} seconds\\n')\n",
    "    \n",
    "    with torch.no_grad():\n",
    "        test_out = model(torch.arange(KCG.number_of_nodes()).to(device), eg_idx.to(device))[test_id].view(-1)\n",
    "        test_label = torch.from_numpy(np.array(list(y_test))).float().to(device)\n",
    "        test_acc = (torch.round(test_out)==test_label).float().mean().item()\n",
    "\n",
    "    print(classification_report(test_label.cpu(), torch.round(test_out).cpu()))\n",
    "    print(f'\\nAccuracy on test subset: {format(test_acc*100, \".3f\")} %')\n",
    "    \n",
    "    return history"
   ]
  },
  {
   "cell_type": "code",
   "execution_count": 9,
   "metadata": {
    "colab": {
     "base_uri": "https://localhost:8080/"
    },
    "id": "t5gmh1JrTEKm",
    "outputId": "bfb584e5-42de-4ea0-d8d2-7304a802e8e9",
    "scrolled": true
   },
   "outputs": [
    {
     "name": "stdout",
     "output_type": "stream",
     "text": [
      "Training start!\n",
      "Epoch: 1/7\n",
      "Train Loss: 0.60153166 \t Train Accuracy: 71.364 %\n",
      "Eval Loss: 0.53911586 \t Eval Accuracy: 74.178 %\n",
      "Epoch: 2/7\n",
      "Train Loss: 0.45771847 \t Train Accuracy: 78.088 %\n",
      "Eval Loss: 0.38800946 \t Eval Accuracy: 83.627 %\n",
      "Epoch: 3/7\n",
      "Train Loss: 0.36044459 \t Train Accuracy: 85.161 %\n",
      "Eval Loss: 0.36934926 \t Eval Accuracy: 84.691 %\n",
      "Epoch: 4/7\n",
      "Train Loss: 0.33761236 \t Train Accuracy: 86.140 %\n",
      "Eval Loss: 0.36556661 \t Eval Accuracy: 84.809 %\n",
      "Epoch: 5/7\n",
      "Train Loss: 0.32652752 \t Train Accuracy: 86.672 %\n",
      "Eval Loss: 0.36236076 \t Eval Accuracy: 84.951 %\n",
      "Epoch: 6/7\n",
      "Train Loss: 0.31497462 \t Train Accuracy: 87.250 %\n",
      "Eval Loss: 0.36411514 \t Eval Accuracy: 84.840 %\n",
      "Epoch: 7/7\n",
      "Train Loss: 0.30538584 \t Train Accuracy: 87.623 %\n",
      "Eval Loss: 0.36587102 \t Eval Accuracy: 84.854 %\n",
      "\n",
      "Training complete! Spent time: 32.92426 seconds\n",
      "\n",
      "              precision    recall  f1-score   support\n",
      "\n",
      "         0.0       0.87      0.93      0.90      5592\n",
      "         1.0       0.75      0.61      0.67      1948\n",
      "\n",
      "    accuracy                           0.85      7540\n",
      "   macro avg       0.81      0.77      0.78      7540\n",
      "weighted avg       0.84      0.85      0.84      7540\n",
      "\n",
      "\n",
      "Accuracy on test subset: 84.523 %\n"
     ]
    }
   ],
   "source": [
    "# Train model\n",
    "model = GCN()\n",
    "device = torch.device(\"cuda\" if torch.cuda.is_available() else \"cpu\")\n",
    "lr = 3e-4\n",
    "epochs = 7\n",
    "batch_size = 233\n",
    "\n",
    "hist = train_model(model, _train, _val, test_id, device, batch_size, lr, epochs)"
   ]
  },
  {
   "cell_type": "markdown",
   "metadata": {
    "id": "SG6wegcfs1l6"
   },
   "source": [
    "## Q2: Diagnose COVID-19 by CT images \n",
    "\n",
    "Please first download the CT images\n",
    "- `COVID-19 CT scans`: https://github.com/UCSD-AI4H/COVID-CT/blob/master/Images-processed/CT_COVID.zip. In total, there are 349 images.\n",
    "- `Non-COVID-19 Scans`: https://github.com/UCSD-AI4H/COVID-CT/blob/master/Images-processed/CT_NonCOVID.zip. There are 397 images in total.\n",
    "\n",
    "This dataset may be a little small for CNN models. Let's just use this dataset to practice CNN models."
   ]
  },
  {
   "cell_type": "markdown",
   "metadata": {
    "id": "REjuP9BJs1l7"
   },
   "source": [
    "### Q2.1. Data Preprocessing \n",
    "\n",
    "- Refer to CNN labs to read the image files and create datasets.\n",
    "- For each class, use 60% images for training, 20% for validation, and 20% for testing. `The split has been created for you`.\n",
    "- Create a Dataset class so that you can preprocess images and generate mini-batches for training. Since the CT scans are grayscale (only 1 channel), you can transform all images to grayscale. `(1 point dedicated to this step)`"
   ]
  },
  {
   "cell_type": "code",
   "execution_count": 2,
   "metadata": {
    "colab": {
     "base_uri": "https://localhost:8080/"
    },
    "id": "uxJYpmsjs1l8",
    "outputId": "545adfa9-41d4-42f7-89b3-c5ee665ac1f5"
   },
   "outputs": [],
   "source": [
    "random_seed = 124\n",
    "np.random.seed(random_seed)\n",
    "\n",
    "torch.manual_seed(random_seed)\n",
    "torch.backends.cudnn.deterministic = True"
   ]
  },
  {
   "cell_type": "code",
   "execution_count": 2,
   "metadata": {
    "id": "4nsLOYvHs1l8"
   },
   "outputs": [],
   "source": [
    "# Load images and split data into train/eval/test subsets\n",
    "\n",
    "pos_files = [Image.open(f) for f in glob.glob(os.path.join('COVID/CT_COVID','*.*'))]\n",
    "neg_files = [Image.open(f) for f in  glob.glob(os.path.join('COVID/CT_NonCOVID','*.*'))]\n",
    "\n",
    "images = pos_files + neg_files\n",
    "labels = np.array([1]*len(pos_files)+[0]*len(neg_files))\n",
    "\n",
    "images_tv, images_test, y_tv, y_test  = train_test_split(images, labels, shuffle=True, test_size=0.2,\n",
    "                                                         random_state=123, stratify = labels)\n",
    "images_train, images_val, y_train, y_val  = train_test_split(images_tv, y_tv, shuffle=True, stratify = y_tv,\n",
    "                                                             test_size=0.25, random_state=123)"
   ]
  },
  {
   "cell_type": "code",
   "execution_count": 12,
   "metadata": {},
   "outputs": [
    {
     "name": "stdout",
     "output_type": "stream",
     "text": [
      "447 149 150\n",
      "209 70 70\n"
     ]
    }
   ],
   "source": [
    "print(len(y_train), len(y_val), len(y_test))\n",
    "\n",
    "print(y_train.sum(), y_val.sum(), y_test.sum())"
   ]
  },
  {
   "cell_type": "code",
   "execution_count": 13,
   "metadata": {},
   "outputs": [],
   "source": [
    "class CT_Dataset(Dataset):\n",
    "    \n",
    "    def __init__(self, X, y):\n",
    "        super(CT_Dataset, self).__init__()\n",
    "        self.X = torch.stack(list(map(lambda x: transforms.ToTensor()\n",
    "                (transforms.Resize((384,512))(transforms.Grayscale()(x))), X)))\n",
    "        self.y = torch.Tensor(y)\n",
    "        \n",
    "    def __getitem__(self, idx):\n",
    "        return self.X[idx], self.y[idx]\n",
    "    \n",
    "    def __len__(self):\n",
    "        return len(self.X)\n",
    "    \n",
    "train_ = CT_Dataset(images_train, y_train)\n",
    "val_ = CT_Dataset(images_val, y_val)\n",
    "test_ = CT_Dataset(images_test, y_test)"
   ]
  },
  {
   "cell_type": "markdown",
   "metadata": {
    "id": "8-9dcNC0s1l9"
   },
   "source": [
    "### Q2.2. Build Model \n",
    "\n",
    "- Create a CNN models with appropriate layers of `Convolution`, `MaxPooling2D`, and `Dense` layers. Use appropriate activation functions for these layers.\n",
    "- Since this dataset is small, it may be easily get overfitted. Leverage `Dropout` or other regularization techniques to fight overfitting\n",
    "- Configure your model with appropriate optimizer and loss function."
   ]
  },
  {
   "cell_type": "code",
   "execution_count": 40,
   "metadata": {},
   "outputs": [],
   "source": [
    "class Convnet(nn.Module):\n",
    "    \n",
    "    def __init__(self):\n",
    "        super(Convnet, self).__init__()\n",
    "        self.cv = nn.Sequential(\n",
    "            nn.Conv2d(1, 32, 5), # (n, 32, 380, 508)\n",
    "            nn.ReLU(),\n",
    "            nn.MaxPool2d(5), # (n, 32, 76, 101)\n",
    "            nn.Conv2d(32, 32, 3), # (n, 32, 74, 99)\n",
    "            nn.ReLU(),\n",
    "            nn.MaxPool2d(3), # (n, 32, 24, 33)\n",
    "            nn.Conv2d(32, 32, 2), # (n, 32, 23, 32)\n",
    "            nn.ReLU(),\n",
    "            nn.MaxPool2d(2), # (n, 32, 11, 16)\n",
    "            nn.Flatten())\n",
    "        self.net = nn.Sequential(\n",
    "            nn.Dropout(0.5),\n",
    "            nn.Linear(32*176, 512),\n",
    "            nn.ReLU(),\n",
    "            nn.Linear(512, 128),\n",
    "            nn.ReLU(),\n",
    "            nn.Linear(128, 1),\n",
    "            nn.Sigmoid())   \n",
    "            \n",
    "    def forward(self, x):\n",
    "        return self.net(self.cv(x))"
   ]
  },
  {
   "cell_type": "markdown",
   "metadata": {
    "id": "LKCZfOPPs1l-"
   },
   "source": [
    "### Q2.3. Fit your model \n",
    "\n",
    "- Define a function to train the model until it converges. You should use the `evaluation dataset` to control the training process such that the model is not overfitted.\n",
    "- Plot the loss and accuracy of the model over the training and validation data\n",
    "- Test the model using `test dataset` and show the test accuracy. You need to achieve a `test accuracy of 70% or higher`\n",
    "\n"
   ]
  },
  {
   "cell_type": "code",
   "execution_count": 4,
   "metadata": {},
   "outputs": [],
   "source": [
    "def train_model(model, train_dataset, eval_dataset, test_dataset, device, \n",
    "                lr=0.0005, epochs=50, batch_size=256):\n",
    "    \n",
    "    history = {'train_loss': [], 'train_acc': [], 'eval_loss': [], 'eval_acc': []}\n",
    "    \n",
    "    train_loader = DataLoader(train_dataset, batch_size=batch_size, shuffle=True)\n",
    "    eval_loader = DataLoader(eval_dataset, batch_size=batch_size)\n",
    "    test_loader = DataLoader(test_dataset, batch_size=batch_size)\n",
    "\n",
    "    model = model.to(device)\n",
    "    Loss = nn.BCELoss().to(device)\n",
    "    op = torch.optim.Adam(model.parameters(), lr=lr)\n",
    "    \n",
    "    print('Training start!')\n",
    "    start = time.time()\n",
    "    \n",
    "    for epoch in range(epochs):\n",
    "        \n",
    "        model.train()\n",
    "        train_loss = 0\n",
    "        train_acc = 0\n",
    "        eval_loss = 0\n",
    "        eval_acc = 0\n",
    "        \n",
    "        for X, y in train_loader:\n",
    "            X = X.to(device)\n",
    "            y = y.to(device)\n",
    "            out = model(X).squeeze(-1)\n",
    "            acc = (torch.round(out)==y).float().mean().item()\n",
    "            loss = Loss(out, y)\n",
    "            \n",
    "            op.zero_grad()\n",
    "            loss.backward()\n",
    "            op.step()\n",
    "            \n",
    "            train_loss += loss\n",
    "            train_acc += acc\n",
    "            \n",
    "        model.eval()\n",
    "        with torch.no_grad():\n",
    "            for X, y in eval_loader:\n",
    "                X = X.to(device)\n",
    "                y = y.to(device)\n",
    "                out = model(X).squeeze(-1)\n",
    "                acc = (torch.round(out)==y).float().mean().item()\n",
    "                loss = Loss(out, y)\n",
    "                eval_loss += loss\n",
    "                eval_acc += acc  \n",
    "                \n",
    "        train_loss = (train_loss/len(train_loader)).item()\n",
    "        train_acc = train_acc/len(train_loader)\n",
    "        eval_loss = (eval_loss/len(eval_loader)).item()\n",
    "        eval_acc = eval_acc/len(eval_loader)  \n",
    "        \n",
    "        history['train_loss'].append(train_loss)\n",
    "        history['train_acc'].append(train_acc)\n",
    "        history['eval_loss'].append(eval_loss)\n",
    "        history['eval_acc'].append(eval_acc)     \n",
    "        \n",
    "        print(f'Epoch: {epoch+1}/{epochs}')\n",
    "        print(f'Train Loss: {format(train_loss, \".8f\")} \\t Train Accuracy: {format(train_acc*100, \".3f\")} %')\n",
    "        print(f'Eval Loss: {format(eval_loss, \".8f\")} \\t Eval Accuracy: {format(eval_acc*100, \".3f\")} %')\n",
    "        \n",
    "    print(f'\\nTraining complete! Spent time: {format(time.time()-start, \".5f\")} seconds\\n')\n",
    "    \n",
    "    test_acc = 0\n",
    "    pred = []\n",
    "    y_true = []\n",
    "    with torch.no_grad():\n",
    "        for X, y in test_loader:\n",
    "            X = X.to(device)\n",
    "            y = y.to(device)\n",
    "            out = model(X).squeeze(-1)\n",
    "            acc = (torch.round(out)==y).float().mean().item()\n",
    "            test_acc += acc  \n",
    "            pred.append(torch.round(out).cpu())\n",
    "            y_true.append(y.cpu())\n",
    "\n",
    "    test_acc = test_acc/len(test_loader)   \n",
    "    print(f'Test Accuracy: {test_acc*100} %\\n')\n",
    "    print(classification_report(torch.cat(y_true), torch.cat(pred).cpu()))\n",
    "    \n",
    "    return history"
   ]
  },
  {
   "cell_type": "code",
   "execution_count": 51,
   "metadata": {
    "scrolled": true
   },
   "outputs": [
    {
     "name": "stdout",
     "output_type": "stream",
     "text": [
      "Training start!\n",
      "Epoch: 1/30\n",
      "Train Loss: 0.69399327 \t Train Accuracy: 48.274 %\n",
      "Eval Loss: 0.69143212 \t Eval Accuracy: 52.125 %\n",
      "Epoch: 2/30\n",
      "Train Loss: 0.68947786 \t Train Accuracy: 53.199 %\n",
      "Eval Loss: 0.68927741 \t Eval Accuracy: 52.125 %\n",
      "Epoch: 3/30\n",
      "Train Loss: 0.68081003 \t Train Accuracy: 55.923 %\n",
      "Eval Loss: 0.68237168 \t Eval Accuracy: 52.125 %\n",
      "Epoch: 4/30\n",
      "Train Loss: 0.66272420 \t Train Accuracy: 60.625 %\n",
      "Eval Loss: 0.67968452 \t Eval Accuracy: 53.625 %\n",
      "Epoch: 5/30\n",
      "Train Loss: 0.63173193 \t Train Accuracy: 65.074 %\n",
      "Eval Loss: 0.66308403 \t Eval Accuracy: 64.375 %\n",
      "Epoch: 6/30\n",
      "Train Loss: 0.60771245 \t Train Accuracy: 66.176 %\n",
      "Eval Loss: 0.64463115 \t Eval Accuracy: 65.000 %\n",
      "Epoch: 7/30\n",
      "Train Loss: 0.59174180 \t Train Accuracy: 70.060 %\n",
      "Eval Loss: 0.68824160 \t Eval Accuracy: 59.125 %\n",
      "Epoch: 8/30\n",
      "Train Loss: 0.55659527 \t Train Accuracy: 69.836 %\n",
      "Eval Loss: 0.66737914 \t Eval Accuracy: 61.000 %\n",
      "Epoch: 9/30\n",
      "Train Loss: 0.51823580 \t Train Accuracy: 74.479 %\n",
      "Eval Loss: 0.63596213 \t Eval Accuracy: 63.125 %\n",
      "Epoch: 10/30\n",
      "Train Loss: 0.48307008 \t Train Accuracy: 76.057 %\n",
      "Eval Loss: 0.62342709 \t Eval Accuracy: 64.875 %\n",
      "Epoch: 11/30\n",
      "Train Loss: 0.46811306 \t Train Accuracy: 76.741 %\n",
      "Eval Loss: 0.62640929 \t Eval Accuracy: 68.125 %\n",
      "Epoch: 12/30\n",
      "Train Loss: 0.45550263 \t Train Accuracy: 76.518 %\n",
      "Eval Loss: 0.61140317 \t Eval Accuracy: 66.125 %\n",
      "Epoch: 13/30\n",
      "Train Loss: 0.42218217 \t Train Accuracy: 80.759 %\n",
      "Eval Loss: 0.59108192 \t Eval Accuracy: 69.875 %\n",
      "Epoch: 14/30\n",
      "Train Loss: 0.40120032 \t Train Accuracy: 81.682 %\n",
      "Eval Loss: 0.59445298 \t Eval Accuracy: 68.000 %\n",
      "Epoch: 15/30\n",
      "Train Loss: 0.39264566 \t Train Accuracy: 81.652 %\n",
      "Eval Loss: 0.58616602 \t Eval Accuracy: 69.875 %\n",
      "Epoch: 16/30\n",
      "Train Loss: 0.36972937 \t Train Accuracy: 84.137 %\n",
      "Eval Loss: 0.56560248 \t Eval Accuracy: 71.125 %\n",
      "Epoch: 17/30\n",
      "Train Loss: 0.36425942 \t Train Accuracy: 82.589 %\n",
      "Eval Loss: 0.58774012 \t Eval Accuracy: 71.125 %\n",
      "Epoch: 18/30\n",
      "Train Loss: 0.36686501 \t Train Accuracy: 82.798 %\n",
      "Eval Loss: 0.57914370 \t Eval Accuracy: 72.375 %\n",
      "Epoch: 19/30\n",
      "Train Loss: 0.34399232 \t Train Accuracy: 85.655 %\n",
      "Eval Loss: 0.57209724 \t Eval Accuracy: 70.625 %\n",
      "Epoch: 20/30\n",
      "Train Loss: 0.31420961 \t Train Accuracy: 87.887 %\n",
      "Eval Loss: 0.56586605 \t Eval Accuracy: 73.625 %\n",
      "Epoch: 21/30\n",
      "Train Loss: 0.35386762 \t Train Accuracy: 83.661 %\n",
      "Eval Loss: 0.56611985 \t Eval Accuracy: 72.500 %\n",
      "Epoch: 22/30\n",
      "Train Loss: 0.29749972 \t Train Accuracy: 88.170 %\n",
      "Eval Loss: 0.57006675 \t Eval Accuracy: 72.375 %\n",
      "Epoch: 23/30\n",
      "Train Loss: 0.29557568 \t Train Accuracy: 87.247 %\n",
      "Eval Loss: 0.57343835 \t Eval Accuracy: 71.750 %\n",
      "Epoch: 24/30\n",
      "Train Loss: 0.28822476 \t Train Accuracy: 87.485 %\n",
      "Eval Loss: 0.57606512 \t Eval Accuracy: 72.375 %\n",
      "Epoch: 25/30\n",
      "Train Loss: 0.26361620 \t Train Accuracy: 88.824 %\n",
      "Eval Loss: 0.58116335 \t Eval Accuracy: 75.000 %\n",
      "Epoch: 26/30\n",
      "Train Loss: 0.26591450 \t Train Accuracy: 87.917 %\n",
      "Eval Loss: 0.58157796 \t Eval Accuracy: 72.375 %\n",
      "Epoch: 27/30\n",
      "Train Loss: 0.28662694 \t Train Accuracy: 86.577 %\n",
      "Eval Loss: 0.65051299 \t Eval Accuracy: 72.875 %\n",
      "Epoch: 28/30\n",
      "Train Loss: 0.27294207 \t Train Accuracy: 87.917 %\n",
      "Eval Loss: 0.60728282 \t Eval Accuracy: 76.750 %\n",
      "Epoch: 29/30\n",
      "Train Loss: 0.26421046 \t Train Accuracy: 89.271 %\n",
      "Eval Loss: 0.59129924 \t Eval Accuracy: 73.625 %\n",
      "Epoch: 30/30\n",
      "Train Loss: 0.25575435 \t Train Accuracy: 89.271 %\n",
      "Eval Loss: 0.58448404 \t Eval Accuracy: 78.750 %\n",
      "\n",
      "Training complete! Spent time: 36.28781 seconds\n",
      "\n",
      "Test Accuracy: 78.95833373069763 %\n",
      "\n",
      "              precision    recall  f1-score   support\n",
      "\n",
      "         0.0       0.79      0.82      0.80        80\n",
      "         1.0       0.79      0.74      0.76        70\n",
      "\n",
      "    accuracy                           0.79       150\n",
      "   macro avg       0.79      0.78      0.78       150\n",
      "weighted avg       0.79      0.79      0.79       150\n",
      "\n"
     ]
    }
   ],
   "source": [
    "model = Convnet()\n",
    "device = torch.device(\"cuda\" if torch.cuda.is_available() else \"cpu\")\n",
    "lr = 1e-4\n",
    "epochs = 30\n",
    "batch_size = 16\n",
    "\n",
    "hist = train_model(model, train_, val_, test_, device, \n",
    "                lr=lr, epochs=epochs, batch_size=batch_size)"
   ]
  },
  {
   "cell_type": "code",
   "execution_count": 53,
   "metadata": {},
   "outputs": [
    {
     "data": {
      "image/png": "[encoded data removed]",
      "text/plain": [
       "<Figure size 936x288 with 2 Axes>"
      ]
     },
     "metadata": {
      "needs_background": "light"
     },
     "output_type": "display_data"
    }
   ],
   "source": [
    "f, ax = plt.subplots(1,2, figsize=(13, 4))\n",
    "\n",
    "ax[0].set_title('Loss')\n",
    "ax[0].set(xlabel='Epochs', ylabel='Loss')\n",
    "ax[0].plot(hist['train_loss'], label = 'Train', color='r')\n",
    "ax[0].plot(hist['eval_loss'], label = 'Evaluation', color='b')    \n",
    "ax[0].legend()\n",
    "\n",
    "ax[1].set_title('Accuracy')\n",
    "ax[1].set(xlabel='Epochs', ylabel='Acc.')\n",
    "ax[1].plot(hist['train_acc'], label = 'Train', color='r')\n",
    "ax[1].plot(hist['eval_acc'], label = 'Evaluation', color='b')    \n",
    "ax[1].legend();"
   ]
  },
  {
   "cell_type": "markdown",
   "metadata": {
    "id": "8bHxP9ijs1mB"
   },
   "source": [
    "### Q2.4. (Bonus) Using pretrained industry model \n",
    "\n",
    "Since we have a small dataset, a thought is that perhaps we can improve the performance using pretrained industry models such as VGG 16.\n",
    "\n",
    "- Decide which pretrained model you'd like to use\n",
    "- Think about whether you'd like to fine tune some layers\n",
    "- Show your analysis: \n",
    "  - Do you think the pretrained model helps?\n",
    "  - Why or why not"
   ]
  },
  {
   "cell_type": "code",
   "execution_count": 5,
   "metadata": {},
   "outputs": [
    {
     "data": {
      "text/plain": [
       "<All keys matched successfully>"
      ]
     },
     "execution_count": 5,
     "metadata": {},
     "output_type": "execute_result"
    }
   ],
   "source": [
    "vgg = torchvision.models.vgg16()\n",
    "vgg.load_state_dict(torch.load('C:/Users/DevNMor/.cache/torch/hub/checkpoints/vgg16-397923af.pth'))\n",
    "\n",
    "# vgg = torchvision.models.vgg16(pretrained=True)"
   ]
  },
  {
   "cell_type": "code",
   "execution_count": 6,
   "metadata": {},
   "outputs": [],
   "source": [
    "class VGG_Dataset(Dataset):\n",
    "    \n",
    "    def __init__(self, X, y):\n",
    "        super(VGG_Dataset, self).__init__()\n",
    "        self.X = torch.stack(list(map(lambda x: torch.cat([transforms.ToTensor()\n",
    "                (transforms.Resize((224,224))(transforms.Grayscale()(x)))]*3), X)))\n",
    "#         self.X = torch.cat([vgg.features(i) for i in DataLoader(xx, batch_size=16)])\n",
    "        self.y = torch.Tensor(y)\n",
    "        \n",
    "    def __getitem__(self, idx):\n",
    "        return self.X[idx], self.y[idx]\n",
    "    \n",
    "    def __len__(self):\n",
    "        return len(self.X)\n",
    "    \n",
    "train_ = VGG_Dataset(images_train, y_train)\n",
    "val_ = VGG_Dataset(images_val, y_val)\n",
    "test_ = VGG_Dataset(images_test, y_test)\n",
    "\n",
    "\n",
    "class VGG_FT(nn.Module):\n",
    "    \n",
    "    def __init__(self):\n",
    "        super(VGG_FT, self).__init__()\n",
    "        self.net = nn.Sequential(\n",
    "            nn.Flatten(),\n",
    "            nn.Dropout(0.5),\n",
    "            nn.Linear(128*16*196, 512),\n",
    "            nn.ReLU(),\n",
    "            nn.Linear(512, 128),\n",
    "            nn.ReLU(),\n",
    "            nn.Linear(128, 1),\n",
    "            nn.Sigmoid())   \n",
    "            \n",
    "    def forward(self, x):\n",
    "        return self.net(vgg.features[:10].cuda()(x))"
   ]
  },
  {
   "cell_type": "code",
   "execution_count": 8,
   "metadata": {
    "scrolled": true
   },
   "outputs": [
    {
     "name": "stdout",
     "output_type": "stream",
     "text": [
      "Training start!\n",
      "Epoch: 1/20\n",
      "Train Loss: 1.03930700 \t Train Accuracy: 60.491 %\n",
      "Eval Loss: 0.50892627 \t Eval Accuracy: 74.667 %\n",
      "Epoch: 2/20\n",
      "Train Loss: 0.21455070 \t Train Accuracy: 93.080 %\n",
      "Eval Loss: 0.56337470 \t Eval Accuracy: 76.000 %\n",
      "Epoch: 3/20\n",
      "Train Loss: 0.10955859 \t Train Accuracy: 95.759 %\n",
      "Eval Loss: 0.83136660 \t Eval Accuracy: 68.667 %\n",
      "Epoch: 4/20\n",
      "Train Loss: 0.03835611 \t Train Accuracy: 99.107 %\n",
      "Eval Loss: 0.62010866 \t Eval Accuracy: 75.333 %\n",
      "Epoch: 5/20\n",
      "Train Loss: 0.03224700 \t Train Accuracy: 99.554 %\n",
      "Eval Loss: 0.78604573 \t Eval Accuracy: 69.333 %\n",
      "Epoch: 6/20\n",
      "Train Loss: 0.01970856 \t Train Accuracy: 99.330 %\n",
      "Eval Loss: 0.70868045 \t Eval Accuracy: 78.667 %\n",
      "Epoch: 7/20\n",
      "Train Loss: 0.01353349 \t Train Accuracy: 99.554 %\n",
      "Eval Loss: 0.71786565 \t Eval Accuracy: 78.000 %\n",
      "Epoch: 8/20\n",
      "Train Loss: 0.02996666 \t Train Accuracy: 99.554 %\n",
      "Eval Loss: 0.72861683 \t Eval Accuracy: 76.000 %\n",
      "Epoch: 9/20\n",
      "Train Loss: 0.03055570 \t Train Accuracy: 98.438 %\n",
      "Eval Loss: 1.40291989 \t Eval Accuracy: 71.333 %\n",
      "Epoch: 10/20\n",
      "Train Loss: 0.01341965 \t Train Accuracy: 99.554 %\n",
      "Eval Loss: 0.96120071 \t Eval Accuracy: 74.667 %\n",
      "Epoch: 11/20\n",
      "Train Loss: 0.00282766 \t Train Accuracy: 100.000 %\n",
      "Eval Loss: 1.24709857 \t Eval Accuracy: 72.000 %\n",
      "Epoch: 12/20\n",
      "Train Loss: 0.00029522 \t Train Accuracy: 100.000 %\n",
      "Eval Loss: 1.10794544 \t Eval Accuracy: 76.667 %\n",
      "Epoch: 13/20\n",
      "Train Loss: 0.00016084 \t Train Accuracy: 100.000 %\n",
      "Eval Loss: 1.10620606 \t Eval Accuracy: 76.667 %\n",
      "Epoch: 14/20\n",
      "Train Loss: 0.00012083 \t Train Accuracy: 100.000 %\n",
      "Eval Loss: 1.10748696 \t Eval Accuracy: 77.333 %\n",
      "Epoch: 15/20\n",
      "Train Loss: 0.00010935 \t Train Accuracy: 100.000 %\n",
      "Eval Loss: 1.11222327 \t Eval Accuracy: 76.667 %\n",
      "Epoch: 16/20\n",
      "Train Loss: 0.00008447 \t Train Accuracy: 100.000 %\n",
      "Eval Loss: 1.10953701 \t Eval Accuracy: 76.667 %\n",
      "Epoch: 17/20\n",
      "Train Loss: 0.00010062 \t Train Accuracy: 100.000 %\n",
      "Eval Loss: 1.10632026 \t Eval Accuracy: 77.333 %\n",
      "Epoch: 18/20\n",
      "Train Loss: 0.00005650 \t Train Accuracy: 100.000 %\n",
      "Eval Loss: 1.11005521 \t Eval Accuracy: 76.667 %\n",
      "Epoch: 19/20\n",
      "Train Loss: 0.00005467 \t Train Accuracy: 100.000 %\n",
      "Eval Loss: 1.11685419 \t Eval Accuracy: 76.000 %\n",
      "Epoch: 20/20\n",
      "Train Loss: 0.00004728 \t Train Accuracy: 100.000 %\n",
      "Eval Loss: 1.11870599 \t Eval Accuracy: 76.667 %\n",
      "\n",
      "Training complete! Spent time: 409.48778 seconds\n",
      "\n",
      "Test Accuracy: 70.0 %\n",
      "\n",
      "              precision    recall  f1-score   support\n",
      "\n",
      "         0.0       0.73      0.70      0.71        80\n",
      "         1.0       0.67      0.70      0.69        70\n",
      "\n",
      "    accuracy                           0.70       150\n",
      "   macro avg       0.70      0.70      0.70       150\n",
      "weighted avg       0.70      0.70      0.70       150\n",
      "\n"
     ]
    }
   ],
   "source": [
    "model_pret = VGG_FT()\n",
    "device = torch.device(\"cuda\" if torch.cuda.is_available() else \"cpu\")\n",
    "lr = 1e-4\n",
    "epochs = 20\n",
    "batch_size = 2\n",
    "\n",
    "hist = train_model(model_pret, train_, val_, test_, device, \n",
    "                lr=lr, epochs=epochs, batch_size=batch_size)"
   ]
  },
  {
   "cell_type": "markdown",
   "metadata": {},
   "source": [
    "#### _*I don't think this really help. Here I use the previous 10 layers of VGG-16 as the pre-trained model for feature engineering of our data. However, its performance is no much better than our customized model.*_\n",
    "#### _*Firstly, our data size is too small. According to a paper by Tibshirani, under the circumstances that the sample size is small, when our parameters' number gets greater, the test loss will first increase, then decrease. While my computer cannot tolerate that great numbers of parameters (a huge model), I'm still in the first stage, which is typically named as \"overfitting\". In fact, the model has done feature extraction for a classification task with 1000 labels (identifying various objects and animals), obviously way too much for our data. Hence, our data size doesn't allow VGG-16 to fully perform its great ability.*_\n",
    "#### _*The second reson here is somehow personal. For me, using pre-trained model / embeddings is convinient, but is actually a trade off between computation resources of computers and accuracy, or efficiency of certain indicators. Since my computer is not that super so far, I don't think it really fit for the data for now.*_"
   ]
  },
  {
   "cell_type": "markdown",
   "metadata": {
    "id": "caXcDR-Os1mB"
   },
   "source": [
    "## Q3: News Classification by CNN \n",
    "\n",
    "In HW #2, You have used linear layers to classify text. This time, let's use CNN model to see if the performance can be improved.\n",
    "\n"
   ]
  },
  {
   "cell_type": "markdown",
   "metadata": {
    "id": "10r56UOqs1mC"
   },
   "source": [
    "### Q3.1 Data Processing \n",
    "\n",
    "Since the embedding layer expects a sentences with uniform length, you need to pad or truncate the sentences to the same length. Properly decide the maximum length of the sentence so that most of sentences are kept intact after processing. However, do not set the maximum length too big, which reduces the computational efficiency."
   ]
  },
  {
   "cell_type": "code",
   "execution_count": 3,
   "metadata": {
    "colab": {
     "base_uri": "https://localhost:8080/",
     "height": 216
    },
    "id": "UDZ6uQdks1mC",
    "outputId": "1a9691df-ff17-4a74-a3a2-cd5a818bff2a"
   },
   "outputs": [
    {
     "name": "stdout",
     "output_type": "stream",
     "text": [
      "[1, 245, 273, 207, 156, 53, 74, 160, 26, 14, 46, 296, 26, 39, 74, 2979, 3554, 14, 46, 4689, 4329, 86, 61, 3499, 4795, 14, 61, 451, 4329, 17, 12]\n"
     ]
    },
    {
     "data": {
      "text/plain": [
       "'said as a result of its december acquisition of space co it expects earnings per share in 1987 of 1 15 to 1 30 dlrs per share up from 70 cts in 1986 the company said pretax net should rise to nine to 10 mln dlrs from six mln dlrs in 1986 and rental operation revenues to 19 to 22 mln dlrs from 12 5 mln dlrs it said cash flow per share this year should be 2 50 to three dlrs reuter 3'"
      ]
     },
     "execution_count": 3,
     "metadata": {},
     "output_type": "execute_result"
    }
   ],
   "source": [
    "(train_data, train_labels), (test_data, test_labels) = reuters.load_data(num_words=10000)\n",
    "\n",
    "# show the sizes training/testing samples \n",
    "len(train_data)\n",
    "len(test_data)\n",
    "\n",
    "# show an example from the training dataset\n",
    "print(train_data[10])\n",
    "\n",
    "# retrieve the mapping from words to indices\n",
    "word_index = reuters.get_word_index()\n",
    "\n",
    "# reverse mapping\n",
    "reverse_word_index = dict([(value, key) for (key, value) in word_index.items()])\n",
    "\n",
    "# Note that our indices were offset by 3\n",
    "# because 0, 1 and 2 are reserved indices for \"padding\", \"start of sequence\", and \"unknown\".\n",
    "decoded_newswire = ' '.join([reverse_word_index[i - 3] for i in train_data[0] if (i-3) in reverse_word_index])\n",
    "\n",
    "decoded_newswire"
   ]
  },
  {
   "cell_type": "code",
   "execution_count": 4,
   "metadata": {},
   "outputs": [],
   "source": [
    "# preprocess text, determine vocabulary and max length of each document,  pad or truncate text\n",
    "\n",
    "stop_words = stopwords.words('english')\n",
    "stop_idx = [word_index[i] for i in stop_words if i in word_index]\n",
    "\n",
    "def get_list(data):\n",
    "    tk_list = []\n",
    "    voc = []\n",
    "    for i in data:\n",
    "        temp = [j-3 for j in i if j>=4 and j-3 not in stop_idx and not reverse_word_index[j-3].isdigit()]\n",
    "        tk_list.append(temp)\n",
    "        voc += temp\n",
    "    voc = list(set(voc))\n",
    "    return voc, tk_list\n",
    "\n",
    "voc_train, tk_train = get_list(train_data)\n",
    "voc_test, tk_test = get_list(test_data)\n",
    "\n",
    "voc_dic = {item: idx+1 for idx, item in enumerate(voc_train)}\n",
    "\n",
    "def word2idx(token_list, voc_dic):\n",
    "    \n",
    "    token_idx = []\n",
    "    for sent in token_list:\n",
    "        sent_list = []\n",
    "        for token in sent:\n",
    "            if token in voc_dic:\n",
    "                idx = voc_dic[token]\n",
    "            else:\n",
    "                idx = 0\n",
    "            sent_list.append(idx)\n",
    "        token_idx.append(sent_list)\n",
    "\n",
    "    return token_idx\n",
    "\n",
    "train_id = word2idx(tk_train, voc_dic)\n",
    "test_id = word2idx(tk_test, voc_dic)"
   ]
  },
  {
   "cell_type": "code",
   "execution_count": 5,
   "metadata": {},
   "outputs": [],
   "source": [
    "# Define Dataset Class\n",
    "\n",
    "class dataset_(Dataset):\n",
    "    \n",
    "    def __init__(self, X, y, max_len=1024):\n",
    "        super(dataset_, self).__init__()\n",
    "        pad = [i[:max_len] + [0]*(max_len-len(i[:max_len])) for i in X]\n",
    "        self.X = torch.tensor(pad, dtype=torch.int32)\n",
    "        self.y = torch.tensor(y, dtype=torch.long)\n",
    "        \n",
    "    def __getitem__(self, idx):\n",
    "        return self.X[idx], self.y[idx]\n",
    "    \n",
    "    def __len__(self):\n",
    "        return len(self.X)\n",
    "\n",
    "train_ = dataset_(train_id, train_labels)\n",
    "test_ = dataset_(test_id, test_labels)"
   ]
  },
  {
   "cell_type": "markdown",
   "metadata": {
    "id": "ivk7wI2E6KyZ"
   },
   "source": [
    "### Q3.2 Define the model \n",
    "\n",
    "- Your model should contain the follow layers:\n",
    "    - Embedding (Note, you are not required to use pretrained word vector in the embedding layer)\n",
    "    - Convolution\n",
    "    - MaxPool\n",
    "    - Flatten, Concatenate, Dropout if needed\n",
    "    - Dense\n",
    "\n",
    "\n",
    "- Carefully choose the following hyperparameters:\n",
    "  - Max. sentence length\n",
    "  - Embedding dimension\n",
    "  - Filter sizes and number of filters \n",
    "- Use appropriate activate functions for all layers"
   ]
  },
  {
   "cell_type": "code",
   "execution_count": 66,
   "metadata": {
    "id": "J9SelncTs1mE"
   },
   "outputs": [],
   "source": [
    "class cnn_text(nn.Module):\n",
    "    \n",
    "    def __init__(self, voc_size=len(voc_train)+1):\n",
    "        super(cnn_text, self).__init__()\n",
    "        \n",
    "        self.emb = nn.Embedding(voc_size, 128, 0)\n",
    "        self.uni = nn.Sequential(\n",
    "            nn.Conv1d(128, 64, 1), \n",
    "            nn.ReLU(),\n",
    "            nn.MaxPool1d(1024), \n",
    "            nn.Flatten())\n",
    "        self.bi = nn.Sequential(\n",
    "            nn.Conv1d(128, 64, 2), \n",
    "            nn.ReLU(),\n",
    "            nn.MaxPool1d(1023), \n",
    "            nn.Flatten())\n",
    "        self.tri = nn.Sequential(\n",
    "            nn.Conv1d(128, 64, 3), \n",
    "            nn.ReLU(),\n",
    "            nn.MaxPool1d(1022), \n",
    "            nn.Flatten())    \n",
    "        self.net = nn.Sequential(\n",
    "            nn.Dropout(0.3),\n",
    "            nn.Linear(64*3, 128),\n",
    "            nn.ReLU(),\n",
    "            nn.Linear(128, 46))\n",
    "        \n",
    "    def forward(self, x):\n",
    "        x = self.emb(x)\n",
    "        x = torch.cat([self.uni(x.transpose(-2, -1)), \n",
    "                       self.bi(x.transpose(-2, -1)), \n",
    "                       self.tri(x.transpose(-2, -1))], dim=1)\n",
    "        return self.net(x)"
   ]
  },
  {
   "cell_type": "markdown",
   "metadata": {
    "id": "tHr6gMGu6dFO"
   },
   "source": [
    "### Q3.3. Train the model\n",
    "\n",
    "- Fit the model, plot the training curve on training and testing datasets\n",
    "\n",
    "- You can certainly reuse your training function from HW #2.\n",
    "\n",
    "- Analysis:\n",
    "  - Do you think the CNN can achieve better performance, compared with the linear model in HW #2?\n",
    "  - Why do you think CNN can do better?"
   ]
  },
  {
   "cell_type": "code",
   "execution_count": 69,
   "metadata": {
    "id": "O5S8v3JNs1mE"
   },
   "outputs": [],
   "source": [
    "def train_model(model, train_dataset, test_dataset, device, \n",
    "                lr=0.0005, epochs=50, batch_size=256):\n",
    "    \n",
    "    history = {'train_loss': [], 'train_acc': [], 'test_loss': [], 'test_acc': []}\n",
    "    \n",
    "    train_loader = DataLoader(train_dataset, batch_size=batch_size, shuffle=True)\n",
    "    test_loader = DataLoader(test_dataset, batch_size=batch_size)\n",
    "\n",
    "    model = model.to(device)\n",
    "    Loss = nn.CrossEntropyLoss().to(device)\n",
    "    op = torch.optim.Adam(model.parameters(), lr=lr)\n",
    "    \n",
    "    print('Training start!')\n",
    "    start = time.time()\n",
    "    \n",
    "    for epoch in range(epochs):\n",
    "        \n",
    "        model.train()\n",
    "        train_loss = 0\n",
    "        train_acc = 0\n",
    "        test_loss = 0\n",
    "        test_acc = 0\n",
    "        \n",
    "        for X, y in train_loader:\n",
    "            X = X.to(device)\n",
    "            y = y.to(device)\n",
    "            out = model(X)\n",
    "            acc = (out.argmax(1)==y).float().mean().item()\n",
    "            loss = Loss(out, y)\n",
    "            \n",
    "            op.zero_grad()\n",
    "            loss.backward()\n",
    "            op.step()\n",
    "            \n",
    "            train_loss += loss\n",
    "            train_acc += acc\n",
    "            \n",
    "        model.eval()\n",
    "        with torch.no_grad():\n",
    "            for X, y in test_loader:\n",
    "                X = X.to(device)\n",
    "                y = y.to(device)\n",
    "                out = model(X)\n",
    "                acc = (out.argmax(1)==y).float().mean().item()\n",
    "                loss = Loss(out, y)\n",
    "                \n",
    "                test_loss += loss\n",
    "                test_acc += acc  \n",
    "                \n",
    "        train_loss = (train_loss/len(train_loader)).item()\n",
    "        train_acc = train_acc/len(train_loader)\n",
    "        test_loss = (test_loss/len(test_loader)).item()\n",
    "        test_acc = test_acc/len(test_loader)  \n",
    "        \n",
    "        history['train_loss'].append(train_loss)\n",
    "        history['train_acc'].append(train_acc)\n",
    "        history['test_loss'].append(test_loss)\n",
    "        history['test_acc'].append(test_acc)     \n",
    "        \n",
    "        if not (epoch+1)%5:\n",
    "            print(f'Epoch: {epoch+1}/{epochs}')\n",
    "            print(f'Train Loss: {format(train_loss, \".8f\")} \\t Train Accuracy: {format(train_acc*100, \".3f\")} %')\n",
    "            print(f'Test Loss: {format(test_loss, \".8f\")} \\t Test Accuracy: {format(test_acc*100, \".3f\")} %')\n",
    "        \n",
    "    print(f'\\nTraining complete! Spent time: {format(time.time()-start, \".5f\")} seconds\\n')\n",
    "    \n",
    "    return history"
   ]
  },
  {
   "cell_type": "code",
   "execution_count": 70,
   "metadata": {
    "scrolled": true
   },
   "outputs": [
    {
     "name": "stdout",
     "output_type": "stream",
     "text": [
      "Training start!\n",
      "Epoch: 5/50\n",
      "Train Loss: 1.44221532 \t Train Accuracy: 66.246 %\n",
      "Test Loss: 1.39128804 \t Test Accuracy: 67.786 %\n",
      "Epoch: 10/50\n",
      "Train Loss: 1.10032022 \t Train Accuracy: 73.280 %\n",
      "Test Loss: 1.09566367 \t Test Accuracy: 75.033 %\n",
      "Epoch: 15/50\n",
      "Train Loss: 0.92838842 \t Train Accuracy: 76.801 %\n",
      "Test Loss: 0.97144538 \t Test Accuracy: 76.675 %\n",
      "Epoch: 20/50\n",
      "Train Loss: 0.80520099 \t Train Accuracy: 79.779 %\n",
      "Test Loss: 0.90190148 \t Test Accuracy: 78.287 %\n",
      "Epoch: 25/50\n",
      "Train Loss: 0.72897696 \t Train Accuracy: 81.562 %\n",
      "Test Loss: 0.84840804 \t Test Accuracy: 80.095 %\n",
      "Epoch: 30/50\n",
      "Train Loss: 0.67540848 \t Train Accuracy: 82.408 %\n",
      "Test Loss: 0.82497859 \t Test Accuracy: 80.841 %\n",
      "Epoch: 35/50\n",
      "Train Loss: 0.59204119 \t Train Accuracy: 84.157 %\n",
      "Test Loss: 0.80395925 \t Test Accuracy: 81.145 %\n",
      "Epoch: 40/50\n",
      "Train Loss: 0.55448496 \t Train Accuracy: 84.904 %\n",
      "Test Loss: 0.78120935 \t Test Accuracy: 81.651 %\n",
      "Epoch: 45/50\n",
      "Train Loss: 0.52433962 \t Train Accuracy: 86.041 %\n",
      "Test Loss: 0.78704262 \t Test Accuracy: 81.477 %\n",
      "Epoch: 50/50\n",
      "Train Loss: 0.47409099 \t Train Accuracy: 86.901 %\n",
      "Test Loss: 0.78954178 \t Test Accuracy: 82.222 %\n",
      "\n",
      "Training complete! Spent time: 91.77726 seconds\n",
      "\n"
     ]
    }
   ],
   "source": [
    "# train model and plot learning curves\n",
    "\n",
    "model = cnn_text()\n",
    "device = torch.device(\"cuda\" if torch.cuda.is_available() else \"cpu\")\n",
    "lr = 3e-4\n",
    "epochs = 50\n",
    "batch_size = 128\n",
    "\n",
    "hist = train_model(model, train_, test_, device, \n",
    "                lr=lr, epochs=epochs, batch_size=batch_size)"
   ]
  },
  {
   "cell_type": "code",
   "execution_count": 71,
   "metadata": {
    "ExecuteTime": {
     "end_time": "2020-11-12T09:13:30.947989Z",
     "start_time": "2020-11-12T09:13:30.680929Z"
    },
    "colab": {
     "base_uri": "https://localhost:8080/",
     "height": 592
    },
    "id": "qd3B9ynYs1mG",
    "outputId": "43c63191-704f-4ff1-caea-1dcc51f3b918",
    "scrolled": true
   },
   "outputs": [
    {
     "data": {
      "image/png": "[encoded data removed]",
      "text/plain": [
       "<Figure size 432x288 with 1 Axes>"
      ]
     },
     "metadata": {
      "needs_background": "light"
     },
     "output_type": "display_data"
    },
    {
     "data": {
      "image/png": "[encoded data removed]",
      "text/plain": [
       "<Figure size 432x288 with 1 Axes>"
      ]
     },
     "metadata": {
      "needs_background": "light"
     },
     "output_type": "display_data"
    }
   ],
   "source": [
    "epochs = range(1, len(hist['train_loss']) + 1)\n",
    "\n",
    "plt.plot(epochs, hist['train_loss'], 'r-', label='Train')\n",
    "plt.plot(epochs, hist['test_loss'], 'b-', label='Evaluation')\n",
    "\n",
    "plt.title('Loss')\n",
    "plt.xlabel('Epochs')\n",
    "plt.ylabel('Loss')\n",
    "plt.legend()\n",
    "\n",
    "plt.show()\n",
    "\n",
    "plt.plot(epochs, hist['train_acc'], 'r-', label='Train')\n",
    "plt.plot(epochs, hist['test_acc'], 'b-', label='Evaluation')\n",
    "\n",
    "plt.title('Accuracy')\n",
    "plt.xlabel('Epochs')\n",
    "plt.ylabel('Acc')\n",
    "plt.legend()\n",
    "\n",
    "plt.show()"
   ]
  },
  {
   "cell_type": "markdown",
   "metadata": {},
   "source": [
    "#### _*As seen, the test accuracy here has easily exceeded the delicately-tuned results of our last assignment, generally demonstrating the superiority of CNN to linear model.*_\n",
    "#### _*The main reason for that, in my opinion, should first be attibuted to the different features we use in two models.*_\n",
    "#### _*For the last assignment, I think we've only used the count vectors (similar to TF-IDF matrix) for each document, which focuses on the overall frequencies of each word in each document and across different documents. This would be pretty comfortable when the problem is not that complicated or requires a quick and simple solution. While for CNN model, what we've done is much more complicated. Instead of using the count vectors, we randomly initialize embeddings for each word and plug them into each document, making the model much more word-specified than before.*_\n",
    "#### _*In addition, we check the unigrams, bigrams and trigrams in a document by applying convolution model with different kernel sizes, while previously in the linear model, we only consider the effect of unigrams, which might not be enough to explain the sentiments inside a document.*_"
   ]
  },
  {
   "cell_type": "markdown",
   "metadata": {
    "id": "-ZhJvT_g9b5w"
   },
   "source": [
    "### Q3.4 (Bonus) Pretrained Wore Vectors \n",
    "\n",
    "It's a common practice to use pretrained word vectors to initialize the embedding layer paramters and then fine tune the embedding layer during model training.\n",
    "\n",
    "- Train word vector by yourself or find pretrained word vectors\n",
    "- Initialize the embedding layer with the word vectors\n",
    "- You can freeze the embedding layer or fine tune the layer\n",
    "- Fit the model to see what strategy can further improve the training performance"
   ]
  },
  {
   "cell_type": "code",
   "execution_count": 28,
   "metadata": {},
   "outputs": [],
   "source": [
    "vec = torchtext.vocab.GloVe(name='6B', dim=100)\n",
    "\n",
    "voc_emb = list(set(voc_train + voc_test))\n",
    "initial = torch.zeros((len(voc_emb)+1, 100))\n",
    "miss = []\n",
    "for i in range(len(voc_emb)):\n",
    "    try:\n",
    "        initial[i+1] = vec[reverse_word_index[voc_emb[i]]]\n",
    "    except:\n",
    "        miss.append(voc_emb[i])\n",
    "\n",
    "voc_dic = {item: idx+1 for idx, item in enumerate(voc_emb)}\n",
    "\n",
    "def word2idx_new(token_list, voc_dic):\n",
    "    \n",
    "    token_idx = []\n",
    "    for sent in token_list:\n",
    "        sent_list = []\n",
    "        for token in sent:\n",
    "            if token not in miss:\n",
    "                idx = voc_dic[token]\n",
    "            else:\n",
    "                idx = 0\n",
    "            sent_list.append(idx)\n",
    "        token_idx.append(sent_list)\n",
    "\n",
    "    return token_idx\n",
    "\n",
    "train_new_id = word2idx_new(tk_train, voc_dic)\n",
    "test_new_id = word2idx_new(tk_test, voc_dic)\n",
    "\n",
    "train_new_ = dataset_(train_new_id, train_labels)\n",
    "test_new_ = dataset_(test_new_id, test_labels)"
   ]
  },
  {
   "cell_type": "code",
   "execution_count": 57,
   "metadata": {},
   "outputs": [],
   "source": [
    "class cnn_pretrained(nn.Module):\n",
    "    \n",
    "    def __init__(self):\n",
    "        super(cnn_pretrained, self).__init__()\n",
    "        \n",
    "        self.emb = nn.Sequential(\n",
    "            nn.Embedding.from_pretrained(initial, freeze=True, padding_idx=0),\n",
    "            nn.Linear(100, 128))\n",
    "        self.uni = nn.Sequential(\n",
    "            nn.Conv1d(128, 64, 1), \n",
    "            nn.ReLU(),\n",
    "            nn.MaxPool1d(1024), \n",
    "            nn.Flatten())\n",
    "        self.bi = nn.Sequential(\n",
    "            nn.Conv1d(128, 64, 2), \n",
    "            nn.ReLU(),\n",
    "            nn.MaxPool1d(1023), \n",
    "            nn.Flatten())\n",
    "        self.tri = nn.Sequential(\n",
    "            nn.Conv1d(128, 64, 3), \n",
    "            nn.ReLU(),\n",
    "            nn.MaxPool1d(1022), \n",
    "            nn.Flatten())    \n",
    "        self.net = nn.Sequential(\n",
    "            nn.Dropout(0.3),\n",
    "            nn.Linear(64*3, 128),\n",
    "            nn.ReLU(),\n",
    "            nn.Linear(128, 46))\n",
    "        \n",
    "    def forward(self, x):\n",
    "        x = self.emb(x)\n",
    "        x = torch.cat([self.uni(x.transpose(-2, -1)), \n",
    "                       self.bi(x.transpose(-2, -1)), \n",
    "                       self.tri(x.transpose(-2, -1))], dim=1)\n",
    "        return self.net(x)"
   ]
  },
  {
   "cell_type": "code",
   "execution_count": 58,
   "metadata": {},
   "outputs": [],
   "source": [
    "def train_model(model, train_dataset, test_dataset, device, \n",
    "                lr=0.0005, epochs=50, batch_size=256):\n",
    "    \n",
    "    history = {'train_loss': [], 'train_acc': [], 'test_loss': [], 'test_acc': []}\n",
    "    \n",
    "    train_loader = DataLoader(train_dataset, batch_size=batch_size, shuffle=True)\n",
    "    test_loader = DataLoader(test_dataset, batch_size=batch_size)\n",
    "\n",
    "    model = model.to(device)\n",
    "    Loss = nn.CrossEntropyLoss().to(device)\n",
    "    op = torch.optim.Adam(model.parameters(), lr=lr)\n",
    "    \n",
    "    print('Training start!')\n",
    "    start = time.time()\n",
    "    \n",
    "    for epoch in range(epochs):\n",
    "        \n",
    "        model.train()\n",
    "        train_loss = 0\n",
    "        train_acc = 0\n",
    "        test_loss = 0\n",
    "        test_acc = 0\n",
    "        \n",
    "        for X, y in train_loader:\n",
    "            X = X.to(device)\n",
    "            y = y.to(device)\n",
    "            out = model(X)\n",
    "            acc = (out.argmax(1)==y).float().mean().item()\n",
    "            loss = Loss(out, y)\n",
    "            \n",
    "            op.zero_grad()\n",
    "            loss.backward()\n",
    "            op.step()\n",
    "            \n",
    "            train_loss += loss\n",
    "            train_acc += acc\n",
    "            \n",
    "        model.eval()\n",
    "        with torch.no_grad():\n",
    "            for X, y in test_loader:\n",
    "                X = X.to(device)\n",
    "                y = y.to(device)\n",
    "                out = model(X)\n",
    "                acc = (out.argmax(1)==y).float().mean().item()\n",
    "                loss = Loss(out, y)\n",
    "                \n",
    "                test_loss += loss\n",
    "                test_acc += acc  \n",
    "                \n",
    "        train_loss = (train_loss/len(train_loader)).item()\n",
    "        train_acc = train_acc/len(train_loader)\n",
    "        test_loss = (test_loss/len(test_loader)).item()\n",
    "        test_acc = test_acc/len(test_loader)  \n",
    "        \n",
    "        history['train_loss'].append(train_loss)\n",
    "        history['train_acc'].append(train_acc)\n",
    "        history['test_loss'].append(test_loss)\n",
    "        history['test_acc'].append(test_acc)     \n",
    "        \n",
    "        if not (epoch+1)%5:\n",
    "            print(f'Epoch: {epoch+1}/{epochs}')\n",
    "            print(f'Train Loss: {format(train_loss, \".8f\")} \\t Train Accuracy: {format(train_acc*100, \".3f\")} %')\n",
    "            print(f'Test Loss: {format(test_loss, \".8f\")} \\t Test Accuracy: {format(test_acc*100, \".3f\")} %')\n",
    "        \n",
    "    print(f'\\nTraining complete! Spent time: {format(time.time()-start, \".5f\")} seconds\\n')\n",
    "    \n",
    "    return history"
   ]
  },
  {
   "cell_type": "code",
   "execution_count": 59,
   "metadata": {
    "scrolled": true
   },
   "outputs": [
    {
     "name": "stdout",
     "output_type": "stream",
     "text": [
      "Training start!\n",
      "Epoch: 5/50\n",
      "Train Loss: 1.29567969 \t Train Accuracy: 68.359 %\n",
      "Test Loss: 1.27895439 \t Test Accuracy: 68.170 %\n",
      "Epoch: 10/50\n",
      "Train Loss: 1.01255178 \t Train Accuracy: 74.975 %\n",
      "Test Loss: 1.04321766 \t Test Accuracy: 74.469 %\n",
      "Epoch: 15/50\n",
      "Train Loss: 0.85459316 \t Train Accuracy: 78.232 %\n",
      "Test Loss: 0.91381401 \t Test Accuracy: 77.362 %\n",
      "Epoch: 20/50\n",
      "Train Loss: 0.75067532 \t Train Accuracy: 80.829 %\n",
      "Test Loss: 0.85691297 \t Test Accuracy: 78.874 %\n",
      "Epoch: 25/50\n",
      "Train Loss: 0.67304701 \t Train Accuracy: 82.741 %\n",
      "Test Loss: 0.81094009 \t Test Accuracy: 80.110 %\n",
      "Epoch: 30/50\n",
      "Train Loss: 0.61238545 \t Train Accuracy: 84.403 %\n",
      "Test Loss: 0.78844333 \t Test Accuracy: 80.552 %\n",
      "Epoch: 35/50\n",
      "Train Loss: 0.57101566 \t Train Accuracy: 85.393 %\n",
      "Test Loss: 0.77632183 \t Test Accuracy: 81.318 %\n",
      "Epoch: 40/50\n",
      "Train Loss: 0.53530234 \t Train Accuracy: 86.480 %\n",
      "Test Loss: 0.76836085 \t Test Accuracy: 81.839 %\n",
      "Epoch: 45/50\n",
      "Train Loss: 0.49093822 \t Train Accuracy: 87.559 %\n",
      "Test Loss: 0.78160155 \t Test Accuracy: 81.962 %\n",
      "Epoch: 50/50\n",
      "Train Loss: 0.45526826 \t Train Accuracy: 88.699 %\n",
      "Test Loss: 0.77265781 \t Test Accuracy: 82.309 %\n",
      "\n",
      "Training complete! Spent time: 98.96003 seconds\n",
      "\n"
     ]
    }
   ],
   "source": [
    "model = cnn_pretrained()\n",
    "device = torch.device(\"cuda\" if torch.cuda.is_available() else \"cpu\")\n",
    "lr = 3e-4\n",
    "epochs = 50\n",
    "batch_size = 128\n",
    "\n",
    "hist = train_model(model, train_new_, test_new_, device, \n",
    "                lr=lr, epochs=epochs, batch_size=batch_size)"
   ]
  },
  {
   "cell_type": "code",
   "execution_count": 60,
   "metadata": {},
   "outputs": [
    {
     "data": {
      "image/png": "[encoded data removed]",
      "text/plain": [
       "<Figure size 432x288 with 1 Axes>"
      ]
     },
     "metadata": {
      "needs_background": "light"
     },
     "output_type": "display_data"
    },
    {
     "data": {
      "image/png": "[encoded data removed]",
      "text/plain": [
       "<Figure size 432x288 with 1 Axes>"
      ]
     },
     "metadata": {
      "needs_background": "light"
     },
     "output_type": "display_data"
    }
   ],
   "source": [
    "epochs = range(1, len(hist['train_loss']) + 1)\n",
    "\n",
    "plt.plot(epochs, hist['train_loss'], 'r-', label='Train')\n",
    "plt.plot(epochs, hist['test_loss'], 'b-', label='Evaluation')\n",
    "\n",
    "plt.title('Loss')\n",
    "plt.xlabel('Epochs')\n",
    "plt.ylabel('Loss')\n",
    "plt.legend()\n",
    "\n",
    "plt.show()\n",
    "\n",
    "plt.plot(epochs, hist['train_acc'], 'r-', label='Train')\n",
    "plt.plot(epochs, hist['test_acc'], 'b-', label='Evaluation')\n",
    "\n",
    "plt.title('Accuracy')\n",
    "plt.xlabel('Epochs')\n",
    "plt.ylabel('Acc')\n",
    "plt.legend()\n",
    "\n",
    "plt.show()"
   ]
  },
  {
   "cell_type": "markdown",
   "metadata": {},
   "source": [
    "#### _*The model with pretrained vectors performs only slightly better than the original model with random initialized vectors. The reason behind that could be the small number of epochs tried on both models. In addition, the pretrained embeddings of Glove are actually based on the co-occurence of words over the internet, while our task is much more industry, or subject-specified, so some of them might not be that suitable.*_"
   ]
  }
 ],
 "metadata": {
  "accelerator": "GPU",
  "colab": {
   "machine_shape": "hm",
   "provenance": []
  },
  "kernelspec": {
   "display_name": "Python 3 (ipykernel)",
   "language": "python",
   "name": "python3"
  },
  "language_info": {
   "codemirror_mode": {
    "name": "ipython",
    "version": 3
   },
   "file_extension": ".py",
   "mimetype": "text/x-python",
   "name": "python",
   "nbconvert_exporter": "python",
   "pygments_lexer": "ipython3",
   "version": "3.9.7"
  },
  "latex_envs": {
   "LaTeX_envs_menu_present": true,
   "autoclose": false,
   "autocomplete": true,
   "bibliofile": "biblio.bib",
   "cite_by": "apalike",
   "current_citInitial": 1,
   "eqLabelWithNumbers": true,
   "eqNumInitial": 1,
   "hotkeys": {
    "equation": "Ctrl-E",
    "itemize": "Ctrl-I"
   },
   "labels_anchors": false,
   "latex_user_defs": false,
   "report_style_numbering": false,
   "user_envs_cfg": false
  },
  "toc": {
   "base_numbering": 1,
   "nav_menu": {},
   "number_sections": true,
   "sideBar": true,
   "skip_h1_title": false,
   "title_cell": "Table of Contents",
   "title_sidebar": "Contents",
   "toc_cell": true,
   "toc_position": {},
   "toc_section_display": true,
   "toc_window_display": false
  }
 },
 "nbformat": 4,
 "nbformat_minor": 4
}
